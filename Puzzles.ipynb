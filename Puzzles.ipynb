{
 "cells": [
  {
   "cell_type": "code",
   "execution_count": 12,
   "metadata": {},
   "outputs": [
    {
     "name": "stdout",
     "output_type": "stream",
     "text": [
      "1 1\n",
      "1 0\n",
      "0 1\n",
      "swap\n",
      "0 0\n",
      "0 0\n",
      "0 1\n",
      "swap\n",
      "0 0\n",
      "0 1\n",
      "swap\n"
     ]
    },
    {
     "data": {
      "text/plain": [
       "[1, 1, 1, 0, 0, 1, 0, 1, 0, 0]"
      ]
     },
     "execution_count": 12,
     "metadata": {},
     "output_type": "execute_result"
    }
   ],
   "source": [
    "l=[1,1,0,1,0,0,1,0,1,0]\n",
    "lt=len(l)\n",
    "\n",
    "for i in range(lt-2):\n",
    "    print(l[i],l[i+1])\n",
    "    if l[i]<l[i+1]:\n",
    "        print('swap')\n",
    "        l[i],l[i+1]=l[i+1],l[i]\n",
    "        \n",
    "l"
   ]
  },
  {
   "cell_type": "code",
   "execution_count": 48,
   "metadata": {},
   "outputs": [
    {
     "name": "stdout",
     "output_type": "stream",
     "text": [
      "4 3\n"
     ]
    }
   ],
   "source": [
    "#####Max Consicutive 1 and 0 \n",
    "\n",
    "a=[1, 1, 1,1, 0, 0, 1, 0, 1, 0, 0,0,1,1]\n",
    "one_count=0\n",
    "zero_count=0\n",
    "one_max=0\n",
    "zero_max=0\n",
    "for i in a:\n",
    "    if i==1:\n",
    "        one_count=one_count+1\n",
    "        zero_max=max(zero_max,zero_count)\n",
    "        zero_count=0\n",
    "    elif i==0:\n",
    "        zero_count=zero_count+1\n",
    "        one_max=max(one_max,one_count)\n",
    "        one_count=0\n",
    "        \n",
    "print(one_max,zero_max)"
   ]
  },
  {
   "cell_type": "code",
   "execution_count": 55,
   "metadata": {},
   "outputs": [
    {
     "name": "stdout",
     "output_type": "stream",
     "text": [
      "10011100101101\n",
      "20058\n",
      "3\n"
     ]
    }
   ],
   "source": [
    "a=10029 \n",
    "print(format(a,'b'))\n",
    "print(a<<1)\n",
    "i=0\n",
    "while(a>0):\n",
    "    a=a&(a<<1)\n",
    "    i=i+1\n",
    "print(i)"
   ]
  },
  {
   "cell_type": "code",
   "execution_count": 42,
   "metadata": {},
   "outputs": [
    {
     "name": "stdout",
     "output_type": "stream",
     "text": [
      "[1, 1, 0, 1, 0, 0, 1, 0, 1, 0]\n",
      "[0, 0, 0, 0, 0, 1, 1, 1, 1, 1]\n"
     ]
    }
   ],
   "source": [
    "##########Segregate 1 and 0\n",
    "\n",
    "l=[1,1,0,1,0,0,1,0,1,0]\n",
    "ln=round(len(l)/2)\n",
    "#print(ln)\n",
    "for i in range(ln):\n",
    "#    print(i,len(l)-1-i)\n",
    "    #print(l[i],l[len(l)-1-i])\n",
    "    if l[i]==1:\n",
    "        l[i]=0\n",
    "    if l[len(l)-1-i]==0:\n",
    "        l[len(l)-1-i]=1\n",
    "        \n",
    "#print(l)\n",
    "\n",
    "l=[1,1,0,1,0,0,1,0,1,0]\n",
    "print(l)\n",
    "k=0\n",
    "j=len(l)-1\n",
    "while (k<j):\n",
    "    #print(l[k],l[j])\n",
    "    #k=k+1\n",
    "    #j=j-1\n",
    "    if l[k]==0:\n",
    "        k=k+1\n",
    "    if l[j]==1:\n",
    "        j=j-1\n",
    "    if l[k]>l[j]:\n",
    "        l[k],l[j]=l[j],l[k]\n",
    "        k=k+1\n",
    "        j=j-1\n",
    "        \n",
    "print(l)\n",
    "\n"
   ]
  },
  {
   "cell_type": "code",
   "execution_count": 18,
   "metadata": {},
   "outputs": [
    {
     "name": "stdout",
     "output_type": "stream",
     "text": [
      "1001 1001\n",
      "Anagram\n"
     ]
    }
   ],
   "source": [
    "from functools import reduce\n",
    "\n",
    "word1=\"Dormitory  \"\n",
    "word2=\"Dirty room\"\n",
    "##reduce(lambda x,y:ord(x)+ord(y),\n",
    "new_wrod1=reduce(lambda x,y:x+y, map (lambda x:ord(x), filter(lambda x:x!=\" \",map(lambda x:x.lower(),word1))))\n",
    "new_wrod2=reduce(lambda x,y:x+y, map (lambda x:ord(x), filter(lambda x:x!=\" \",map(lambda x:x.lower(),word2))))\n",
    "print(new_wrod1,new_wrod2)\n",
    "if new_wrod1==new_wrod2:\n",
    "    print('Anagram')"
   ]
  },
  {
   "cell_type": "code",
   "execution_count": 28,
   "metadata": {},
   "outputs": [
    {
     "name": "stdout",
     "output_type": "stream",
     "text": [
      "No\n"
     ]
    }
   ],
   "source": [
    "word=\"room\"\n",
    "l=round(len(word)/2)\n",
    "flg=0\n",
    "for i in range(l):\n",
    "    if(word[i] != word[len(word)-1-i]):\n",
    "        flg=1\n",
    "        break\n",
    "if flg==1:\n",
    "    print('No')\n",
    "else:\n",
    "    print('Yes')\n",
    "        \n",
    "    "
   ]
  },
  {
   "cell_type": "code",
   "execution_count": null,
   "metadata": {},
   "outputs": [],
   "source": [
    "string=\"abc\"\n",
    "\n",
    "def perm(s):\n",
    "    for i in range(len(s)):\n",
    "        x=string[:i+1]\n",
    "        xs=string[i:]"
   ]
  },
  {
   "cell_type": "code",
   "execution_count": null,
   "metadata": {},
   "outputs": [],
   "source": [
    "l=[123,235,121,342,234,879,457]\n",
    "o=list(map(lambda x,y:,l))"
   ]
  }
 ],
 "metadata": {
  "kernelspec": {
   "display_name": "Python 3",
   "language": "python",
   "name": "python3"
  },
  "language_info": {
   "codemirror_mode": {
    "name": "ipython",
    "version": 3
   },
   "file_extension": ".py",
   "mimetype": "text/x-python",
   "name": "python",
   "nbconvert_exporter": "python",
   "pygments_lexer": "ipython3",
   "version": "3.6.5"
  }
 },
 "nbformat": 4,
 "nbformat_minor": 2
}
