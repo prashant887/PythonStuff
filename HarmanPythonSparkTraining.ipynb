{
 "cells": [
  {
   "cell_type": "code",
   "execution_count": 9,
   "metadata": {
    "scrolled": true
   },
   "outputs": [
    {
     "name": "stdout",
     "output_type": "stream",
     "text": [
      "5\n",
      "18.066666666666666\n",
      "{'p3': 7, 'p4': 9}\n",
      "[1.2100000000000002, 4.41, 9.610000000000001, 16.81, 26.009999999999998]\n",
      "2496458980976\n",
      "2496458980976\n"
     ]
    }
   ],
   "source": [
    "ls=[1.1,2.1,3.1,4.1,5.1]\n",
    "\n",
    "cnt=0\n",
    "for i in ls:\n",
    "    if i>1:\n",
    "        cnt=cnt+1\n",
    "        \n",
    "print(cnt)\n",
    "\n",
    "\n",
    "def power_sum(x):\n",
    "    val=1\n",
    "    for i in range(1,6):\n",
    "        val=val+(pow(x,i))/i\n",
    "    return val\n",
    "\n",
    "print(power_sum(2))\n",
    "\n",
    "def filter_sells(**krgws):\n",
    "    dic={}\n",
    "    for k,v in krgws.items():\n",
    "        if v>5:\n",
    "            dic[k]=v\n",
    "    return dic\n",
    "        \n",
    "print(filter_sells(p1=2,p2=5,p3=7,p4=9))\n",
    "\n",
    "type(filter_sells)\n",
    "\n",
    "mysq=lambda x:x*x\n",
    "    \n",
    "mysq(3)\n",
    "\n",
    "print(list(map(lambda x:x*x,ls)))\n",
    "\n",
    "name1=\"prashant\"\n",
    "print(id(name1))\n",
    "name2=\"prashant\"\n",
    "print(id(name2))"
   ]
  },
  {
   "cell_type": "code",
   "execution_count": 16,
   "metadata": {},
   "outputs": [
    {
     "name": "stdout",
     "output_type": "stream",
     "text": [
      "  col1 col2  col3  col4\n",
      "0    A    a  1.38  1.02\n",
      "1    A    a  2.85  1.50\n",
      "2    A    b  2.22  0.64\n",
      "3    A    b  1.93  2.66\n",
      "4    B    a  1.85  1.97\n",
      "5    B    a  3.04  2.03\n",
      "6    B    b  2.27  3.32\n",
      "7    B    b  2.32  2.04\n",
      "Index(['col1', 'col2', 'col3', 'col4'], dtype='object')\n",
      "RangeIndex(start=0, stop=8, step=1)\n",
      "2\n",
      "32\n",
      "[['A' 'a' 1.38 1.02]\n",
      " ['A' 'a' 2.85 1.5]\n",
      " ['A' 'b' 2.22 0.64]\n",
      " ['A' 'b' 1.93 2.66]\n",
      " ['B' 'a' 1.85 1.97]\n",
      " ['B' 'a' 3.04 2.03]\n",
      " ['B' 'b' 2.27 3.32]\n",
      " ['B' 'b' 2.32 2.04]]\n",
      "(8, 4)\n",
      "col1     object\n",
      "col2     object\n",
      "col3    float64\n",
      "col4    float64\n",
      "dtype: object\n",
      "False\n"
     ]
    }
   ],
   "source": [
    "import numpy as np\n",
    "import pandas as pd\n",
    "column1 = [\"A\",\"A\",\"A\",\"A\",\"B\",\"B\",\"B\",'B']\n",
    "column2 = [\"a\",\"a\",\"b\",\"b\",\"a\",\"a\",\"b\",\"b\"]\n",
    "column3 = [1.38, 2.85, 2.22, 1.93, 1.85, 3.04, 2.27, 2.32]\n",
    "column4 = [1.02, 1.50, 0.64, 2.66, 1.97, 2.03, 3.32, 2.04]\n",
    "dfDict = {\"col1\":column1,\"col2\":column2,\n",
    "\"col3\":column3,\"col4\":column4}\n",
    "df = pd.DataFrame(dfDict)\n",
    "print(df)\n",
    "print(df.columns)\n",
    "print(df.index)\n",
    "print(df.ndim)\n",
    "print(df.size)\n",
    "print(df.values)\n",
    "print(df.shape)\n",
    "print(df.dtypes)\n",
    "print(df.empty)"
   ]
  },
  {
   "cell_type": "code",
   "execution_count": 22,
   "metadata": {},
   "outputs": [
    {
     "name": "stdout",
     "output_type": "stream",
     "text": [
      "  group location\n",
      "0    g1     loc1\n",
      "1    g2     loc2\n",
      "2    g4     loc4\n",
      "  group name  age\n",
      "0    g1   p1   26\n",
      "1    g1   p2   28\n",
      "2    g1   p3   30\n",
      "3    g2   p4   24\n",
      "4    g2   p5   26\n",
      "5    g3   p6   32\n",
      "  group location name  age\n",
      "0    g1     loc1   p1   26\n",
      "1    g1     loc1   p2   28\n",
      "2    g1     loc1   p3   30\n",
      "3    g2     loc2   p4   24\n",
      "4    g2     loc2   p5   26\n",
      "5    g3      NaN   p6   32\n"
     ]
    }
   ],
   "source": [
    "import numpy as np\n",
    "import pandas as pd\n",
    "group=pd.read_csv('D:\\\\group.txt',header=None,names=['group','location'])\n",
    "person=pd.read_csv('D:\\\\person.txt',header=None,names=['group','name','age'])\n",
    "\n",
    "print(group)\n",
    "print(person)\n",
    "\n",
    "innerDF=pd.merge(group,person,how='right',on=['group'])\n",
    "print(innerDF)\n",
    "\n",
    "#value count education and geneder  september more defaulter"
   ]
  }
 ],
 "metadata": {
  "kernelspec": {
   "display_name": "Python 3",
   "language": "python",
   "name": "python3"
  },
  "language_info": {
   "codemirror_mode": {
    "name": "ipython",
    "version": 3
   },
   "file_extension": ".py",
   "mimetype": "text/x-python",
   "name": "python",
   "nbconvert_exporter": "python",
   "pygments_lexer": "ipython3",
   "version": "3.6.5"
  }
 },
 "nbformat": 4,
 "nbformat_minor": 2
}
