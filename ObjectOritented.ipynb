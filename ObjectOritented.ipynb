{
 "cells": [
  {
   "cell_type": "code",
   "execution_count": 3,
   "metadata": {},
   "outputs": [
    {
     "name": "stdout",
     "output_type": "stream",
     "text": [
      "VTU VTU\n",
      "CEC CEC\n",
      "CEC NMN\n",
      "CEC CEC\n",
      "NLS NLS\n"
     ]
    }
   ],
   "source": [
    "class Student:\n",
    "    collage_name='VTU'\n",
    "    def __init__(self):\n",
    "        self.name=None\n",
    "    @classmethod\n",
    "    def updateCollegeName(cls,name):\n",
    "        cls.collage_name=name\n",
    "        \n",
    "    @staticmethod\n",
    "    def staticUpdate(name):\n",
    "        Student.collage_name=name\n",
    "        \n",
    "s1= Student()\n",
    "print(Student.collage_name,s1.collage_name)\n",
    "s1.updateCollegeName('CEC')\n",
    "print(Student.collage_name,s1.collage_name)\n",
    "s1.collage_name='NMN'\n",
    "print(Student.collage_name,s1.collage_name)\n",
    "s2=Student()\n",
    "print(Student.collage_name,s2.collage_name)\n",
    "s2.staticUpdate('NLS')\n",
    "print(Student.collage_name,s2.collage_name)\n"
   ]
  },
  {
   "cell_type": "code",
   "execution_count": null,
   "metadata": {},
   "outputs": [],
   "source": []
  },
  {
   "cell_type": "code",
   "execution_count": null,
   "metadata": {},
   "outputs": [],
   "source": []
  },
  {
   "cell_type": "code",
   "execution_count": 7,
   "metadata": {},
   "outputs": [
    {
     "name": "stdout",
     "output_type": "stream",
     "text": [
      "Outer Class Creation\n",
      "Inner Class Creation\n",
      "Inner Class Mathod\n"
     ]
    }
   ],
   "source": [
    "class Outer:\n",
    "    def __init__(self):\n",
    "        print('Outer Class Creation')\n",
    "        \n",
    "    class Inner:\n",
    "        def __init__(self):\n",
    "            print('Inner Class Creation')\n",
    "            \n",
    "        def method_one(self):\n",
    "            print('Inner Class Mathod')\n",
    "            \n",
    "            \n",
    "o=Outer()\n",
    "i=o.Inner()\n",
    "i.method_one()\n",
    "o.Inner().method_one()\n",
    "Outer().Inner().method_one()"
   ]
  },
  {
   "cell_type": "code",
   "execution_count": 10,
   "metadata": {},
   "outputs": [
    {
     "name": "stdout",
     "output_type": "stream",
     "text": [
      "Name  Prashant L Age  10\n",
      "Day  8 Month  4 Year  1987\n",
      "Dob  None\n"
     ]
    }
   ],
   "source": [
    "class Person:\n",
    "    def __init__(self):\n",
    "        self.name='Prashant L'\n",
    "        self.age=10\n",
    "        self.dob=self.DOB()\n",
    "        \n",
    "    def display(self):\n",
    "        print('Name ',self.name,'Age ',self.age)\n",
    "        print ('Dob ',self.dob.display())\n",
    "        \n",
    "    class DOB:\n",
    "        def __init__(self):\n",
    "            self.dd=8\n",
    "            self.mm=4\n",
    "            self.yyyy=1987\n",
    "            \n",
    "        def display(self):\n",
    "            print('Day ',self.dd,'Month ',self.mm,'Year ',self.yyyy)\n",
    "            \n",
    "p=Person()\n",
    "p.display()"
   ]
  },
  {
   "cell_type": "code",
   "execution_count": 9,
   "metadata": {},
   "outputs": [
    {
     "name": "stdout",
     "output_type": "stream",
     "text": [
      "Name : Prashant L\n",
      "Head can talk\n",
      "Brain Can think\n"
     ]
    }
   ],
   "source": [
    "class Human:\n",
    "    def __init__(self):\n",
    "        self.name='Prashant L'\n",
    "        self.head=self.Head()\n",
    "        \n",
    "    def display(self):\n",
    "        print('Name :',self.name)\n",
    "        self.head.talk()\n",
    "        self.head.brain.think()\n",
    "        \n",
    "    class Head():\n",
    "        def __init__(self):\n",
    "            self.brain=self.Brain()\n",
    "            \n",
    "        def talk(self):\n",
    "            print('Head can talk')\n",
    "            \n",
    "        class Brain():\n",
    "            def think(self):\n",
    "                print('Brain Can think')\n",
    "                \n",
    "h=Human()\n",
    "h.display()"
   ]
  },
  {
   "cell_type": "code",
   "execution_count": 31,
   "metadata": {},
   "outputs": [
    {
     "name": "stdout",
     "output_type": "stream",
     "text": [
      "Emp is called with Id:1801057226424 Name :Prashant Sal :500\n",
      "Name : Prashant Sal : 500\n",
      "Name : Prashant Sal : 520\n",
      "Name : Prashant Sal : 550\n",
      "Emp is called with Id:1801057148488 Name :Jej Sal :400\n",
      "Emp is called with Id:1801057148656 Name :Prashant Sal :550\n",
      "True\n",
      "Salary is: 13750\n"
     ]
    }
   ],
   "source": [
    "class Emp:\n",
    "    def __init__(self,name,sal):\n",
    "        self.name=name\n",
    "        self.sal=sal\n",
    "        \n",
    "    def display(self):\n",
    "        print('Name :',self.name,'Sal :',self.sal)\n",
    "        \n",
    "    def __gt__(self,others):\n",
    "        if self.sal>others.sal:\n",
    "            return Emp(self.name,self.sal)\n",
    "        return Emp(others.name,others.sal)\n",
    "    \n",
    "    def __str__(self):\n",
    "        return 'Emp is called with Id:'+str(id(self))+' Name :'+self.name+' Sal :'+str(self.sal)\n",
    "    \n",
    "    def __mul__(self,others):\n",
    "        print(isinstance(others,Sheet))\n",
    "        return self.sal*others.days \n",
    "        \n",
    "class Inc:\n",
    "    def inc(obj,amt):\n",
    "        obj.sal=obj.sal+amt\n",
    "\n",
    "def inc_sal(obj,amt):\n",
    "    obj.sal=obj.sal+amt\n",
    "    \n",
    "    \n",
    "e1=Emp('Prashant',500)\n",
    "print(e1)\n",
    "e1.display()\n",
    "inc_sal(e1,20)\n",
    "e1.display()\n",
    "Inc.inc(e1,30)\n",
    "e1.display()\n",
    "\n",
    "e2=Emp('Jej',400)\n",
    "print(e2)\n",
    "print(e2>e1)\n",
    "\n",
    "class Sheet:\n",
    "    def __init__(self,name,days):\n",
    "        self.name=name\n",
    "        self.days=days\n",
    "        \n",
    "        \n",
    "t=Sheet('Prashant',25)\n",
    "\n",
    "print('Salary is:',str(e1*t))\n"
   ]
  },
  {
   "cell_type": "code",
   "execution_count": 34,
   "metadata": {},
   "outputs": [
    {
     "name": "stdout",
     "output_type": "stream",
     "text": [
      "0 \n",
      "0 \n",
      "<class 'str'>\n"
     ]
    }
   ],
   "source": [
    "class OverLoad:\n",
    "    def method(self,*args):\n",
    "        total=0\n",
    "        concat=''\n",
    "        for i in args:\n",
    "            if type(i)=='int':\n",
    "                total=total+i\n",
    "            elif type(i)=='str':\n",
    "                concat=concat+' '+i\n",
    "                \n",
    "        print(total,concat)\n",
    "        \n",
    "obj=OverLoad()\n",
    "obj.method(1,2,3,4,5,6)\n",
    "obj.method('I','am','string')\n",
    "\n",
    "a='a'\n",
    "print(type(a))"
   ]
  },
  {
   "cell_type": "code",
   "execution_count": 47,
   "metadata": {},
   "outputs": [
    {
     "name": "stdout",
     "output_type": "stream",
     "text": [
      "This ia a parent class\n",
      "This a child class\n",
      "\n",
      "\n",
      "This ia a parent class\n",
      "This a child class\n",
      "This is Grand Child Method\n",
      "\n",
      "\n",
      "Kid \n",
      "This ia a parent class\n",
      "Kid \n",
      "This a child class\n",
      "Kid \n",
      "Boy Child Method\n",
      "Kid \n",
      "Girl Child Method\n",
      "Kid \n",
      "Kid Method\n",
      "Kid\n",
      "Child From Girl\n",
      "[<class '__main__.Kid'>, <class '__main__.GirlChild'>, <class '__main__.BoyChild'>, <class '__main__.Child'>, <class '__main__.Parent'>, <class 'object'>]\n",
      "\n",
      "\n",
      "parent_method Called from Grand\n",
      "[<class '__main__.Grand'>, <class '__main__.Parent'>, <class 'object'>]\n"
     ]
    }
   ],
   "source": [
    "class Parent:\n",
    "    def parent_method(self):\n",
    "        print('This ia a parent class')\n",
    "        \n",
    "class Child(Parent):\n",
    "    def child_method(self):\n",
    "        print('This a child class')\n",
    "        \n",
    "class GrandChild(Child):\n",
    "    def grandchild_method(self):\n",
    "        print('This is Grand Child Method')\n",
    "        \n",
    "class BoyChild(Child):\n",
    "    def boy_child(self):\n",
    "        print('Boy Child Method')\n",
    "        \n",
    "    def child(self):\n",
    "        print('Child from Boy')\n",
    "        \n",
    "class GirlChild(Child):\n",
    "    def girl_child(self):\n",
    "        print('Girl Child Method')\n",
    "        \n",
    "    def child(self):\n",
    "        print('Child From Girl')\n",
    "        \n",
    "class Kid(GirlChild,BoyChild):\n",
    "    def kid_method(self):\n",
    "        print (\"Kid Method\")\n",
    "        \n",
    "class Grand(Parent):\n",
    "    def parent_method(self):\n",
    "        print('parent_method Called from Grand')\n",
    "    \n",
    "        \n",
    "obj=Child()\n",
    "obj.parent_method()\n",
    "obj.child_method()\n",
    "\n",
    "print ('\\n')\n",
    "\n",
    "gc=GrandChild()\n",
    "gc.parent_method()\n",
    "gc.child_method()\n",
    "gc.grandchild_method()\n",
    "\n",
    "\n",
    "print ('\\n')\n",
    "kid=Kid()\n",
    "print ('Kid ')\n",
    "kid.parent_method()\n",
    "print ('Kid ') \n",
    "kid.child_method()\n",
    "print ('Kid ')\n",
    "kid.boy_child()\n",
    "print ('Kid ')\n",
    "kid.girl_child()\n",
    "print ('Kid ')\n",
    "kid.kid_method()\n",
    "print('Kid')\n",
    "kid.child()\n",
    "print(Kid.mro())\n",
    "print('\\n')\n",
    "gd=Grand()\n",
    "gd.parent_method()\n",
    "print(Grand.mro())"
   ]
  },
  {
   "cell_type": "code",
   "execution_count": 4,
   "metadata": {},
   "outputs": [
    {
     "name": "stdout",
     "output_type": "stream",
     "text": [
      "Name : A\n",
      "Age : 18\n",
      "Roll No 1\n",
      "Marks  23\n",
      "\n",
      "\n",
      "Name : H\n",
      "Age : 22\n",
      "Salary  2000\n",
      "Subject  English\n",
      "\n",
      "\n"
     ]
    }
   ],
   "source": [
    "class Person:\n",
    "    def __init__(self,name,age):\n",
    "        self.name=name\n",
    "        self.age=age\n",
    "        \n",
    "    def display(self):\n",
    "        print('Name :',self.name)\n",
    "        print('Age :',self.age)\n",
    "        \n",
    "class Student(Person):\n",
    "    def __init__(self,name,age,rollno,marks):\n",
    "        super().__init__(name,age)\n",
    "        self.rollno=rollno\n",
    "        self.marks=marks\n",
    "        \n",
    "    def display(self):\n",
    "        super().display()\n",
    "        print('Roll No',self.rollno)\n",
    "        print('Marks ',self.marks)\n",
    "        \n",
    "class Teacher(Person):\n",
    "    def __init__(self,name,age,salary,subject):\n",
    "        super().__init__(name,age)\n",
    "        self.salary=salary\n",
    "        self.subject=subject\n",
    "        \n",
    "    def display(self):\n",
    "        super().display()\n",
    "        print('Salary ',self.salary)\n",
    "        print('Subject ',self.subject)\n",
    "        \n",
    "s=Student('A',18,1,23)\n",
    "s.display()\n",
    "print('\\n')\n",
    "t=Teacher('H',22,2000,'English')\n",
    "t.display()\n",
    "print('\\n')"
   ]
  },
  {
   "cell_type": "code",
   "execution_count": 8,
   "metadata": {},
   "outputs": [
    {
     "name": "stdout",
     "output_type": "stream",
     "text": [
      "Class E method Called\n",
      "Class A Method\n",
      "Class C Method\n"
     ]
    }
   ],
   "source": [
    "class A:\n",
    "    def m1(self):\n",
    "        print('Class A Method')\n",
    "class B(A):\n",
    "    def m1(self):\n",
    "        print('Class B Method')\n",
    "class C(B):\n",
    "    def m1(self):\n",
    "        print(\"Class C Method\")\n",
    "class D(C):\n",
    "    def m1(self):\n",
    "        print(\"Class D method\")\n",
    "\n",
    "class E(D):\n",
    "    def m1(self):\n",
    "        print('Class E method Called')\n",
    "        A.m1(self)\n",
    "        super(D,self).m1()\n",
    "        \n",
    "e=E()\n",
    "e.m1()"
   ]
  },
  {
   "cell_type": "code",
   "execution_count": 27,
   "metadata": {},
   "outputs": [
    {
     "name": "stdout",
     "output_type": "stream",
     "text": [
      "D:\\fspext.txt\n",
      "r+\n",
      "True\n",
      "True\n",
      "False\n",
      "True\n"
     ]
    }
   ],
   "source": [
    "f=open('D:\\\\fspext.txt','r+')\n",
    "print(f.name)\n",
    "print(f.mode)\n",
    "print(f.readable())\n",
    "print(f.writable())\n",
    "print(f.closed)\n",
    "\n",
    "w=open(\"dummyfile.txt\",'r+')\n",
    "for i in f.readlines():\n",
    "    w.write(i)\n",
    "f.close()\n",
    "print(f.closed)\n",
    "w.close()"
   ]
  },
  {
   "cell_type": "code",
   "execution_count": 9,
   "metadata": {},
   "outputs": [
    {
     "name": "stdout",
     "output_type": "stream",
     "text": [
      "[1, 2, 3, 4, 5]\n"
     ]
    }
   ],
   "source": [
    "lst=[1,2,2,3,3,3,4,4,5,5]\n",
    "\n",
    "j=0\n",
    "for i in range (0,len(lst)-1):\n",
    "    if lst[i]!=lst[i+1]:\n",
    "        lst[j]=lst[i]\n",
    "        j=j+1\n",
    "       \n",
    "lst[j]=lst[len(lst)-1]    \n",
    "j=j+1\n",
    "lst=lst[:j]\n",
    "print(lst)"
   ]
  },
  {
   "cell_type": "code",
   "execution_count": 8,
   "metadata": {},
   "outputs": [
    {
     "name": "stdout",
     "output_type": "stream",
     "text": [
      "5\n"
     ]
    }
   ],
   "source": [
    "def removeDuplicates(arr, n): \n",
    "    if n == 0 or n == 1: \n",
    "        return n \n",
    "  \n",
    "    # To store index of next \n",
    "    # unique element \n",
    "    j = 0\n",
    "  \n",
    "    # Doing same as done \n",
    "    # in Method 1 Just \n",
    "    # maintaining another  \n",
    "    # updated index i.e. j \n",
    "    for i in range(0, n-1): \n",
    "        if arr[i] != arr[i+1]: \n",
    "            arr[j] = arr[i] \n",
    "            j += 1\n",
    "  \n",
    "    arr[j] = arr[n-1] \n",
    "    j += 1\n",
    "    return j \n",
    "\n",
    "lst=[1,2,2,3,3,3,4,4,5,5]\n",
    "n = len(lst) \n",
    "n = removeDuplicates(lst, n) \n",
    "print(n)"
   ]
  },
  {
   "cell_type": "code",
   "execution_count": 1,
   "metadata": {},
   "outputs": [
    {
     "name": "stdout",
     "output_type": "stream",
     "text": [
      "Current Executing Thread: MainThread\n"
     ]
    }
   ],
   "source": [
    "import threading\n",
    "print('Current Executing Thread:',threading.current_thread().getName())\n",
    "###By default Main Thread"
   ]
  },
  {
   "cell_type": "code",
   "execution_count": 5,
   "metadata": {},
   "outputs": [
    {
     "name": "stdout",
     "output_type": "stream",
     "text": [
      "This is the child ClassMain Thread 0 Thread-9\n",
      "This is the child Class 1 Thread-9\n",
      "This is the child Class 2 Thread-9\n",
      "This is the child Class 3 Thread-9\n",
      "This is the child Class 4 Thread-9\n",
      "This is the child Class 5 Thread-9\n",
      "This is the child Class 6 Thread-9\n",
      "This is the child Class 7 Thread-9\n",
      " MainThread \n",
      "\n",
      "Main Thread MainThread \n",
      "\n",
      "Main ThreadThis is the child Class 8 Thread-9\n",
      "This is the child Class 9 Thread-9\n",
      " MainThread \n",
      "\n",
      "Main Thread MainThread \n",
      "\n",
      "Main Thread MainThread \n",
      "\n",
      "Main Thread MainThread \n",
      "\n",
      "Main Thread MainThread \n",
      "\n",
      "Main Thread MainThread \n",
      "\n",
      "Main Thread MainThread \n",
      "\n",
      "Main Thread MainThread \n",
      "\n"
     ]
    }
   ],
   "source": [
    "from threading import * \n",
    "def display():\n",
    "    for i in range(10):\n",
    "        print('This is the child Class',i,current_thread().getName())\n",
    "        \n",
    "t=Thread(target=display)#Creation of thread object \n",
    "t.start()##Dispay is executed by child thread\n",
    "\n",
    "for i in range(10): ##This is executed by Main Thread\n",
    "    print('Main Thread',current_thread().getName(), '\\n')\n"
   ]
  },
  {
   "cell_type": "code",
   "execution_count": 7,
   "metadata": {},
   "outputs": [
    {
     "name": "stdout",
     "output_type": "stream",
     "text": [
      "Child ClassMain Thread 0 MainThread\n",
      "Main Thread 1 MainThread\n",
      "Main Thread 2 MainThread\n",
      "Main Thread 3 MainThread\n",
      "Main Thread 4 MainThread\n",
      "Main Thread 5 MainThread\n",
      "Main Thread 6 MainThread\n",
      "Main Thread 7 MainThread\n",
      "Main Thread 8 MainThread\n",
      "Main Thread 9 MainThread\n",
      " 0 Thread-11\n",
      "Child Class 1 Thread-11\n",
      "Child Class 2 Thread-11\n",
      "Child Class 3 Thread-11\n",
      "Child Class 4 Thread-11\n",
      "Child Class 5 Thread-11\n",
      "Child Class 6 Thread-11\n",
      "Child Class 7 Thread-11\n",
      "Child Class 8 Thread-11\n",
      "Child Class 9 Thread-11\n"
     ]
    }
   ],
   "source": [
    "from threading import *\n",
    "class MyThread(Thread):\n",
    "    def run(self):##Override Run Menthod\n",
    "        for i in range(10):\n",
    "            print('Child Class',i,current_thread().getName())\n",
    "            \n",
    "t=MyThread()\n",
    "t.start()\n",
    "for i in range(10):\n",
    "    print('Main Thread',i,current_thread().getName())"
   ]
  },
  {
   "cell_type": "code",
   "execution_count": 9,
   "metadata": {},
   "outputs": [
    {
     "name": "stdout",
     "output_type": "stream",
     "text": [
      "Child ClassMain Class 0 Thread-13\n",
      "Child Class 1 Thread-13\n",
      "Child Class 2 Thread-13\n",
      "Child Class 3 Thread-13\n",
      "Child Class 4 Thread-13\n",
      "Child Class 5 Thread-13\n",
      "Child Class 6 Thread-13\n",
      "Child Class 7 Thread-13\n",
      "Child Class 8 Thread-13\n",
      "Child Class 9 Thread-13\n",
      " 0 MainThread\n",
      "Main Class 1 MainThread\n",
      "Main Class 2 MainThread\n",
      "Main Class 3 MainThread\n",
      "Main Class 4 MainThread\n",
      "Main Class 5 MainThread\n",
      "Main Class 6 MainThread\n",
      "Main Class 7 MainThread\n",
      "Main Class 8 MainThread\n",
      "Main Class 9 MainThread\n"
     ]
    }
   ],
   "source": [
    "from threading import *\n",
    "class Test:\n",
    "    def m1(self):\n",
    "        for i in range(10):\n",
    "            print('Child Class',i,current_thread().getName())\n",
    "            \n",
    "obj=Test()\n",
    "t=Thread(target=obj.m1)\n",
    "t.start()\n",
    "\n",
    "for i in range(10):\n",
    "    print('Main Class',i,current_thread().getName())"
   ]
  },
  {
   "cell_type": "code",
   "execution_count": 18,
   "metadata": {},
   "outputs": [
    {
     "name": "stdout",
     "output_type": "stream",
     "text": [
      "Number of Active Threads 7\n",
      "Thread Name : MainThread Thread Id 102192 Alive  True\n",
      "Thread Name : Thread-4 Thread Id 102720 Alive  True\n",
      "Thread Name : Thread-5 Thread Id 102728 Alive  True\n",
      "Thread Name : IPythonHistorySavingThread Thread Id 103148 Alive  True\n",
      "Thread Name : Thread-3 Thread Id 103272 Alive  True\n",
      "Thread Name : DblThread Thread Id 107296 Alive  True\n",
      "Thread Name : SqThread Thread Id 32248 Alive  True\n",
      "Double Sq  1 SqThread\n",
      " 2 DblThread\n",
      "Sq Double  4 DblThread\n",
      " 4 SqThread\n",
      "Sq Double  6 DblThread\n",
      " 9 SqThread\n",
      "Sq Double  8 DblThread\n",
      " 16 SqThread\n",
      "Double Sq  25 SqThread\n",
      " 10 DblThread\n",
      "Double Sq  36 SqThread\n",
      " 12 DblThread\n",
      "T2 is alive False\n",
      "Total Time with Thread 6.039038181304932\n"
     ]
    }
   ],
   "source": [
    "import time \n",
    "def double(num):\n",
    "    for i in num:\n",
    "        time.sleep(1)\n",
    "        print('Double ',i*2,current_thread().getName())\n",
    "        \n",
    "def sq(num):\n",
    "    for i in num:\n",
    "        time.sleep(1)\n",
    "        print('Sq ',i*i,current_thread().getName())\n",
    "        \n",
    "nums=[1,2,3,4,5,6]\n",
    "#begintime=time.time()\n",
    "#double(nums)\n",
    "#sq(nums)\n",
    "#endtime=time.time()\n",
    "\n",
    "#print('Total Time without Thread',endtime-begintime)\n",
    "\n",
    "from threading import * \n",
    "t1=Thread(target=double,args=(nums,))\n",
    "t2=Thread(target=sq,args=(nums,))\n",
    "t1.setName('DblThread')\n",
    "t2.setName('SqThread')\n",
    "begintime=time.time()\n",
    "t1.start()\n",
    "t2.start()\n",
    "print('Number of Active Threads',active_count())\n",
    "for i in enumerate():\n",
    "    print('Thread Name :',i.name,'Thread Id',i.ident,'Alive ',i.is_alive())\n",
    "t1.join() ##Main Thread will wait till all thereads are completed\n",
    "t2.join()\n",
    "print('T2 is alive',t2.is_alive())\n",
    "endtime=time.time()\n",
    "print('Total Time with Thread',endtime-begintime)\n"
   ]
  },
  {
   "cell_type": "code",
   "execution_count": 22,
   "metadata": {},
   "outputs": [
    {
     "name": "stdout",
     "output_type": "stream",
     "text": [
      "In double 0 DoubleThread\n",
      "In double 2 DoubleThread\n",
      "In double 4 DoubleThread\n",
      "In double 6 DoubleThread\n",
      "In double 8 DoubleThread\n",
      "In double 10 DoubleThread\n",
      "In double 12 DoubleThread\n",
      "In double 14 DoubleThread\n",
      "In double 16 DoubleThread\n",
      "In double 18 DoubleThread\n",
      "In Square 0 SquareThread\n",
      "In Square 1 SquareThread\n",
      "In Square 4 SquareThread\n",
      "In Square 9 SquareThread\n",
      "In Square 16 SquareThread\n",
      "In Square 25 SquareThread\n",
      "In Square 36 SquareThread\n",
      "In Square 49 SquareThread\n",
      "In Square 64 SquareThread\n",
      "In Square 81 SquareThread\n"
     ]
    }
   ],
   "source": [
    "from threading import *\n",
    "import time\n",
    "def double():\n",
    "    for i in range(10):\n",
    "        time.sleep(3)\n",
    "        print('In double',i*2,current_thread().getName())\n",
    "        \n",
    "def square():\n",
    "    for i in range(10):\n",
    "        time.sleep(3)\n",
    "        print('In Square',i*i,current_thread().getName())\n",
    "        \n",
    "t1=Thread(target=double,name='DoubleThread')\n",
    "t1.start()\n",
    "t2=Thread(target=square,name='SquareThread')\n",
    "t1.join()\n",
    "t2.start()"
   ]
  },
  {
   "cell_type": "code",
   "execution_count": 26,
   "metadata": {},
   "outputs": [
    {
     "name": "stdout",
     "output_type": "stream",
     "text": [
      "False\n",
      "True\n",
      "Double  0 DoubleThread\n",
      "Double  2 DoubleThread\n",
      "Double  4 DoubleThread\n",
      "Double  6 DoubleThread\n",
      "Double  8 DoubleThread\n",
      "Double  10 DoubleThread\n",
      "Double  12 DoubleThread\n",
      "Double  14 DoubleThread\n",
      "Double  16 DoubleThread\n",
      "Double  18 DoubleThread\n"
     ]
    }
   ],
   "source": [
    "from threading import * \n",
    "import time\n",
    "def double():\n",
    "    for i in range(10):\n",
    "        time.sleep(3)\n",
    "        print('Double ',i*2,current_thread().getName())\n",
    "    \n",
    "mt=current_thread()\n",
    "print(mt.isDaemon())\n",
    "\n",
    "t1=Thread(target=double,name='DoubleThread')\n",
    "t1.setDaemon(True)\n",
    "print(t1.isDaemon())\n",
    "t1.start()"
   ]
  },
  {
   "cell_type": "code",
   "execution_count": 32,
   "metadata": {},
   "outputs": [
    {
     "name": "stdout",
     "output_type": "stream",
     "text": [
      "False\n",
      "True\n",
      "Executing Job 1  Job1\n",
      "True\n",
      "Executing Job 2 Job2\n"
     ]
    }
   ],
   "source": [
    "######If parent thread is demon then child demon is also demon\n",
    "\n",
    "from threading import * \n",
    "\n",
    "def job1():\n",
    "    print('Executing Job 1 ',current_thread().getName())\n",
    "    t2=Thread(target=job2,name='Job2')\n",
    "    print(t2.isDaemon())\n",
    "    t2.start()\n",
    "    \n",
    "def job2():\n",
    "    print('Executing Job 2',current_thread().getName())\n",
    "    \n",
    "t1=Thread(target=job1,name='Job1')\n",
    "print(t1.isDaemon())\n",
    "t1.setDaemon(True)\n",
    "print(t1.isDaemon())\n",
    "t1.start()"
   ]
  },
  {
   "cell_type": "code",
   "execution_count": 33,
   "metadata": {},
   "outputs": [
    {
     "name": "stdout",
     "output_type": "stream",
     "text": [
      "MainThread  Started\n",
      "ChildThread 0\n",
      "ChildThread 1\n",
      "ChildThread 2\n",
      "ChildThread 3\n",
      "ChildThread 4\n",
      "MainThread  Ended\n",
      "ChildThread 5\n",
      "ChildThread 6\n",
      "ChildThread 7\n",
      "ChildThread 8\n",
      "ChildThread 9\n"
     ]
    }
   ],
   "source": [
    "from threading import *\n",
    "import time\n",
    "\n",
    "def child():\n",
    "    for i in range(10):\n",
    "        print (current_thread().getName(),i)\n",
    "        time.sleep(2)\n",
    "\n",
    "print(current_thread().getName(),' Started')        \n",
    "t=Thread(target=child,name='ChildThread')\n",
    "t.setDaemon(True)\n",
    "t.start()\n",
    "time.sleep(10)\n",
    "print(current_thread().getName(),' Ended')"
   ]
  },
  {
   "cell_type": "code",
   "execution_count": 53,
   "metadata": {},
   "outputs": [
    {
     "name": "stdout",
     "output_type": "stream",
     "text": [
      "Executed by  Thread0 10\n",
      "Executed by  Thread1 20\n",
      "Executed by Executed by Executed by  Thread2 30\n",
      " Thread4 50\n",
      "Executed by   Thread5 60\n",
      "Executed by Thread3 40\n",
      " Thread6 70\n",
      "Executed by Executed by  Thread7 80\n",
      " Thread8 90\n",
      "Executed by Next \n",
      " Thread9 100\n",
      "Executed by  Thread0 11\n",
      "Executed by  Thread1 21\n",
      "Executed by  Thread2 31Executed by \n",
      " Thread4 51\n",
      "Executed by  Thread5 61\n",
      "Executed by Executed by  Thread6 71\n",
      " Thread3 41\n",
      "Executed by  Thread7 81Executed by \n",
      " Thread8 91\n",
      "Executed by  Thread9 101\n",
      "Executed by  Thread0 12\n",
      "Executed by  Thread1 22\n",
      "Executed by  Thread2 32\n",
      "Executed by  Thread4 52\n",
      "Executed by  Thread5 62\n",
      "Executed by Executed by  Thread6 72\n",
      " Thread3 42\n",
      "Executed by  Thread7 82\n",
      "Executed by  Thread8 92\n",
      "Executed by  Thread9 102\n",
      "Executed by  Thread0 13\n",
      "Executed by  Thread1 23\n",
      "Executed by  Thread2 33Executed by  Thread4 53\n",
      "\n",
      "Executed by  Thread5 63\n",
      "Executed by Executed by  Thread3 43 Thread6 73\n",
      "\n",
      "Executed by Executed by  Thread8 93\n",
      " Thread7 83\n",
      "Executed by  Thread9 103\n",
      "Executed by  Thread0 14\n",
      "Executed by  Thread1 24\n",
      "Executed by Executed by  Thread4 54\n",
      " Thread2 34\n",
      "Executed by  Thread5 64\n",
      "Executed by Executed by   Thread3 44\n",
      "Thread6 74\n",
      "Executed by Executed by  Thread8 94\n",
      " Thread7 84\n",
      "Executed by  Thread9 104\n",
      "Executed by  Thread0 15\n",
      "Executed by  Thread1 25\n",
      "Executed by Executed by  Thread2 35\n",
      " Thread4 55\n",
      "Executed by  Thread5 65\n",
      "Executed by Executed by  Thread6 75\n",
      " Thread3 45\n",
      "Executed by Executed by  Thread8 95\n",
      " Thread7 85\n",
      "Executed by  Thread9 105\n",
      "Executed by  Thread0 16\n",
      "Executed by  Thread1 26\n",
      "Executed by Executed by  Thread2 36\n",
      " Thread4 56\n",
      "Executed by  Thread5 66\n",
      "Executed by Executed by  Thread3 Thread6 76\n",
      " 46\n",
      "Executed by Executed by  Thread8 96\n",
      " Thread7 86\n",
      "Executed by  Thread9 106\n",
      "Executed by  Thread0 17\n",
      "Executed by  Thread1 27\n",
      "Executed by Executed by  Thread2 37\n",
      " Thread4 57\n",
      "Executed by  Thread5 67\n",
      "Executed by Executed by  Thread6 77\n",
      " Thread3 47\n",
      "Executed by  Thread8 97Executed by \n",
      " Thread7 87\n",
      "Executed by  Thread9 107\n",
      "Executed by  Thread0 18\n",
      "Executed by  Thread1 28\n",
      "Executed by Executed by  Thread4 58\n",
      " Thread2 38\n",
      "Executed by  Thread5 68\n",
      "Executed by Executed by  Thread6 78\n",
      " Thread3 48\n",
      "Executed by  Thread8 98\n",
      "Executed by  Thread7 88\n",
      "Executed by  Thread9 108\n",
      "Executed by  Thread0 19\n",
      "Executed by  Thread1 29\n",
      "Executed by Executed by  Thread4 59\n",
      " Thread2 39\n",
      "Executed by  Thread5 69\n",
      "Executed by Executed by  Thread6 79\n",
      " Thread3 49\n",
      "Executed by  Thread8 99\n",
      "Executed by  Thread7 89\n",
      "Executed by  Thread9 109\n",
      "main Completed\n"
     ]
    }
   ],
   "source": [
    "from threading import *\n",
    "import time\n",
    "\n",
    "def childJobs(a):\n",
    "    start=a*10\n",
    "    end=start+10\n",
    "    for i in range(start,end):\n",
    "        print('Executed by ',current_thread().getName(),i)\n",
    "        time.sleep(3)\n",
    "        \n",
    "t=[]        \n",
    "\n",
    "for i in range(10):\n",
    "    t.append(Thread(target=childJobs,name='Thread'+str(i),args=(i+1,)))\n",
    "    t[i].start()\n",
    "    \n",
    "print('Next ')\n",
    "for i in t:\n",
    "    i.join()\n",
    "    \n",
    "print('main Completed')"
   ]
  },
  {
   "cell_type": "code",
   "execution_count": 64,
   "metadata": {},
   "outputs": [
    {
     "name": "stdout",
     "output_type": "stream",
     "text": [
      "MainThread Started \n",
      "Thread : Thread-1 1 520871\n",
      "Thread : Thread-2 2 520872\n",
      "Thread :Thread :Thread : Thread-8 8Thread :  Thread-7 7 520877\n",
      "Thread : 520878 Thread-5 5 520875\n",
      " Thread-6 6 520876\n",
      "\n",
      "Thread-3 3 520873\n",
      "Thread : Thread-0 0 520880\n",
      "Thread : Thread-4 4 520874\n",
      "Thread : Thread-9 9 520879\n",
      "Thread : Thread-1 1 520881\n",
      "Thread : Thread-2 2 520882\n",
      "Thread : Thread-7 7 520887\n",
      "Thread :Thread : Thread-6 6 520886\n",
      " Thread-5 5 520885\n",
      "Thread :Thread : Thread-8 8 520888\n",
      " Thread-3 3 520883\n",
      "Thread : Thread-0 0 520890\n",
      "Thread : Thread-4 4 520884\n",
      "Thread : Thread-9 9 520889\n",
      "Thread : Thread-1 1 520891\n",
      "Thread : Thread-2 2 520892\n",
      "Thread : Thread-7 7 520897\n",
      "Thread :Thread : Thread-5 5 520895\n",
      " Thread-6 6 520896\n",
      "Thread :Thread : Thread-3 3 520893\n",
      " Thread-8 8 520898\n",
      "Thread : Thread-0 0 520900\n",
      "Thread : Thread-4 4 520894\n",
      "Thread : Thread-9 9 520899\n",
      "Thread : Thread-1 1 520901\n",
      "Thread : Thread-2 2 520902\n",
      "Thread : Thread-7 7 520907\n",
      "Thread :Thread : Thread-5 5 520905 Thread-6 6 520906\n",
      "\n",
      "Thread :Thread : Thread-8 8 520908\n",
      " Thread-3 3 520903\n",
      "Thread : Thread-0 0 520910\n",
      "Thread : Thread-4 4 520904\n",
      "Thread : Thread-9 9 520909\n",
      "Thread : Thread-1 1 520911\n",
      "Thread : Thread-2 2 520912\n",
      "Thread : Thread-7 7 520917\n",
      "Thread :Thread : Thread-6 6 520916\n",
      " Thread-5 5 520915\n",
      "Thread :Thread : Thread-8 8 520918\n",
      " Thread-3 3 520913\n",
      "Thread : Thread-0 0 520920\n",
      "Thread : Thread-4 4 520914\n",
      "Thread : Thread-9 9 520919\n",
      "MainThread Ended \n"
     ]
    }
   ],
   "source": [
    "import cx_Oracle\n",
    "from threading import *\n",
    "import time\n",
    "\n",
    "def getBatch(modval):\n",
    "    sqlstmt='select mod(batch_id,10),batch_id from batch where prcs_week=2101 and mod(batch_id,10)='+str(modval)+' and rownum<=5'\n",
    "    opsconn=cx_Oracle.connect('OPSBLD_IRI_P1', 'Pass9rx4#', 'SVRACDBP')\n",
    "    cur=opsconn.cursor()\n",
    "    #print(sqlstmt)\n",
    "    cur.execute(sqlstmt)\n",
    "    for result in cur.fetchall():\n",
    "        print('Thread :',current_thread().getName(),result[0],result[1])\n",
    "        time.sleep(2)\n",
    "    cur.close()\n",
    "    opsconn.close()\n",
    "    \n",
    "t=[]\n",
    "    \n",
    "print(current_thread().getName(),'Started ')\n",
    "\n",
    "for i in range(10):\n",
    "    t.append(Thread(target=getBatch,name='Thread-'+str(i),args=(i,)))\n",
    "    t[i].start()\n",
    "    #t[i].join()\n",
    "    \n",
    "for i in t:\n",
    "    i.join()\n",
    "    \n",
    "print(current_thread().getName(),'Ended ')\n",
    "\n"
   ]
  },
  {
   "cell_type": "code",
   "execution_count": 7,
   "metadata": {},
   "outputs": [
    {
     "name": "stdout",
     "output_type": "stream",
     "text": [
      "Error X\n",
      "Passed\n"
     ]
    },
    {
     "ename": "AssertionError",
     "evalue": "X shd be 10",
     "output_type": "error",
     "traceback": [
      "\u001b[1;31m---------------------------------------------------------------------------\u001b[0m",
      "\u001b[1;31mAssertionError\u001b[0m                            Traceback (most recent call last)",
      "\u001b[1;32m<ipython-input-7-0a5e480203df>\u001b[0m in \u001b[0;36m<module>\u001b[1;34m()\u001b[0m\n\u001b[0;32m      7\u001b[0m \u001b[0mprint\u001b[0m\u001b[1;33m(\u001b[0m\u001b[1;34m'Passed'\u001b[0m\u001b[1;33m)\u001b[0m\u001b[1;33m\u001b[0m\u001b[0m\n\u001b[0;32m      8\u001b[0m \u001b[1;33m\u001b[0m\u001b[0m\n\u001b[1;32m----> 9\u001b[1;33m \u001b[1;32massert\u001b[0m \u001b[0mx\u001b[0m\u001b[1;33m==\u001b[0m\u001b[1;36m10\u001b[0m\u001b[1;33m,\u001b[0m\u001b[1;34m'X shd be 10'\u001b[0m\u001b[1;33m\u001b[0m\u001b[0m\n\u001b[0m",
      "\u001b[1;31mAssertionError\u001b[0m: X shd be 10"
     ]
    }
   ],
   "source": [
    "x=11\n",
    "try:\n",
    "    assert x==10,'X shd be 10'\n",
    "except:\n",
    "    print('Error X')\n",
    "\n",
    "print('Passed')\n",
    "\n",
    "assert x==10,'X shd be 10'\n"
   ]
  }
 ],
 "metadata": {
  "kernelspec": {
   "display_name": "Python 3",
   "language": "python",
   "name": "python3"
  },
  "language_info": {
   "codemirror_mode": {
    "name": "ipython",
    "version": 3
   },
   "file_extension": ".py",
   "mimetype": "text/x-python",
   "name": "python",
   "nbconvert_exporter": "python",
   "pygments_lexer": "ipython3",
   "version": "3.6.5"
  }
 },
 "nbformat": 4,
 "nbformat_minor": 2
}
