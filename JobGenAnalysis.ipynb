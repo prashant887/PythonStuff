{
 "cells": [
  {
   "cell_type": "code",
   "execution_count": 3,
   "metadata": {},
   "outputs": [
    {
     "data": {
      "text/plain": [
       "WEEK\n",
       "1940        0\n",
       "1941        0\n",
       "1942        0\n",
       "1943        0\n",
       "1944        0\n",
       "1945        0\n",
       "1946        0\n",
       "1947        0\n",
       "2000        0\n",
       "2001        0\n",
       "2002        0\n",
       "2003        0\n",
       "2004        0\n",
       "2005        0\n",
       "2006        0\n",
       "2007        0\n",
       "2008        0\n",
       "2009        0\n",
       "2010        0\n",
       "2011        0\n",
       "2012        0\n",
       "2013        0\n",
       "2014        0\n",
       "2015        0\n",
       "2016        0\n",
       "2017        0\n",
       "2018        0\n",
       "2019        0\n",
       "2020        0\n",
       "2021        0\n",
       "        ...  \n",
       "2077        0\n",
       "2078        0\n",
       "2079        0\n",
       "2080        0\n",
       "2081        0\n",
       "2082        0\n",
       "2083        0\n",
       "2084        0\n",
       "2085        0\n",
       "2086        0\n",
       "2087        0\n",
       "2088        0\n",
       "2089        0\n",
       "2090        0\n",
       "2091        0\n",
       "2092    77216\n",
       "2093    40528\n",
       "2094    40239\n",
       "2095    51079\n",
       "2096    79289\n",
       "2097    40329\n",
       "2098    39749\n",
       "2099    52001\n",
       "2100    78132\n",
       "2101    40203\n",
       "2102    39336\n",
       "2103    47191\n",
       "2104    72237\n",
       "2105    41190\n",
       "2106    41285\n",
       "Name: TOTAL, Length: 115, dtype: int64"
      ]
     },
     "execution_count": 3,
     "metadata": {},
     "output_type": "execute_result"
    }
   ],
   "source": [
    "import pandas as pd\n",
    "df=pd.read_csv(\"C:\\\\Users\\\\PLaxmikant\\\\Documents\\\\tsv_jobgen_anlysis.csv\")\n",
    "df.groupby('WEEK')['TOTAL'].sum()"
   ]
  }
 ],
 "metadata": {
  "kernelspec": {
   "display_name": "Python 3",
   "language": "python",
   "name": "python3"
  },
  "language_info": {
   "codemirror_mode": {
    "name": "ipython",
    "version": 3
   },
   "file_extension": ".py",
   "mimetype": "text/x-python",
   "name": "python",
   "nbconvert_exporter": "python",
   "pygments_lexer": "ipython3",
   "version": "3.6.5"
  }
 },
 "nbformat": 4,
 "nbformat_minor": 2
}
